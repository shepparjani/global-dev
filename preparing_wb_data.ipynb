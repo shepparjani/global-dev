{
 "cells": [
  {
   "cell_type": "code",
   "execution_count": 2,
   "id": "6be8c013",
   "metadata": {},
   "outputs": [],
   "source": [
    "import pandas as pd\n",
    "import os\n",
    "from pathlib import Path"
   ]
  },
  {
   "cell_type": "code",
   "execution_count": 3,
   "id": "d1b04d71",
   "metadata": {},
   "outputs": [
    {
     "name": "stdout",
     "output_type": "stream",
     "text": [
      "/Users/matthewsheppard/Documents/genassembly/global-dev\n"
     ]
    }
   ],
   "source": [
    "home = Path.cwd()\n",
    "print(home)"
   ]
  },
  {
   "cell_type": "code",
   "execution_count": 4,
   "id": "4cb1ae25",
   "metadata": {},
   "outputs": [
    {
     "name": "stdout",
     "output_type": "stream",
     "text": [
      "/Users/matthewsheppard/Documents/genassembly\n"
     ]
    }
   ],
   "source": [
    "print(home.parent)"
   ]
  },
  {
   "cell_type": "code",
   "execution_count": 59,
   "id": "4758dcd6",
   "metadata": {},
   "outputs": [],
   "source": [
    "mortality_fileloc = \"resources/mortality_rate_under5.csv\"\n",
    "co2total_fileloc = \"resources/co2_emissions_kt.csv\"\n",
    "co2pc_fileloc = \"resources/CO2_mt_percapita.csv\"\n",
    "electricity_fileloc = \"resources/electricity_access.csv\"\n",
    "delimiter_character = '\\c'"
   ]
  },
  {
   "cell_type": "code",
   "execution_count": 60,
   "id": "27b45e17",
   "metadata": {},
   "outputs": [],
   "source": [
    "co2pc_df = pd.read_csv(co3pc_fileloc)\n",
    "co2pc_df.drop([\"2019\", \"2020\"], axis=1, inplace=True)"
   ]
  },
  {
   "cell_type": "code",
   "execution_count": 61,
   "id": "1c14cb43",
   "metadata": {},
   "outputs": [
    {
     "data": {
      "text/html": [
       "<div>\n",
       "<style scoped>\n",
       "    .dataframe tbody tr th:only-of-type {\n",
       "        vertical-align: middle;\n",
       "    }\n",
       "\n",
       "    .dataframe tbody tr th {\n",
       "        vertical-align: top;\n",
       "    }\n",
       "\n",
       "    .dataframe thead th {\n",
       "        text-align: right;\n",
       "    }\n",
       "</style>\n",
       "<table border=\"1\" class=\"dataframe\">\n",
       "  <thead>\n",
       "    <tr style=\"text-align: right;\">\n",
       "      <th></th>\n",
       "      <th>Country Name</th>\n",
       "      <th>Country Code</th>\n",
       "      <th>CO2percap_2018</th>\n",
       "    </tr>\n",
       "  </thead>\n",
       "  <tbody>\n",
       "    <tr>\n",
       "      <th>0</th>\n",
       "      <td>Aruba</td>\n",
       "      <td>ABW</td>\n",
       "      <td>NaN</td>\n",
       "    </tr>\n",
       "    <tr>\n",
       "      <th>1</th>\n",
       "      <td>Africa Eastern and Southern</td>\n",
       "      <td>AFE</td>\n",
       "      <td>0.933541</td>\n",
       "    </tr>\n",
       "    <tr>\n",
       "      <th>2</th>\n",
       "      <td>Afghanistan</td>\n",
       "      <td>AFG</td>\n",
       "      <td>0.200151</td>\n",
       "    </tr>\n",
       "    <tr>\n",
       "      <th>3</th>\n",
       "      <td>Africa Western and Central</td>\n",
       "      <td>AFW</td>\n",
       "      <td>0.515544</td>\n",
       "    </tr>\n",
       "    <tr>\n",
       "      <th>4</th>\n",
       "      <td>Angola</td>\n",
       "      <td>AGO</td>\n",
       "      <td>0.887380</td>\n",
       "    </tr>\n",
       "  </tbody>\n",
       "</table>\n",
       "</div>"
      ],
      "text/plain": [
       "                  Country Name Country Code  CO2percap_2018\n",
       "0                        Aruba          ABW             NaN\n",
       "1  Africa Eastern and Southern          AFE        0.933541\n",
       "2                  Afghanistan          AFG        0.200151\n",
       "3   Africa Western and Central          AFW        0.515544\n",
       "4                       Angola          AGO        0.887380"
      ]
     },
     "execution_count": 61,
     "metadata": {},
     "output_type": "execute_result"
    }
   ],
   "source": [
    "co2pc_df = pd.read_csv(co2pc_fileloc)\n",
    "co2pc_df = co2pc_df.rename(columns={\"2018\":\"CO2percap_2018\"})\n",
    "selected_columns = co2pc_df[['Country Name', 'Country Code', 'CO2percap_2018']]\n",
    "co2pc2018_df = selected_columns.copy()\n",
    "co2pc2018_df.to_csv(\"resources/co2pc2018.csv\", index=False)\n",
    "co2pc2018_df.head(5)"
   ]
  },
  {
   "cell_type": "code",
   "execution_count": 57,
   "id": "3fd14f2c",
   "metadata": {},
   "outputs": [
    {
     "data": {
      "text/html": [
       "<div>\n",
       "<style scoped>\n",
       "    .dataframe tbody tr th:only-of-type {\n",
       "        vertical-align: middle;\n",
       "    }\n",
       "\n",
       "    .dataframe tbody tr th {\n",
       "        vertical-align: top;\n",
       "    }\n",
       "\n",
       "    .dataframe thead th {\n",
       "        text-align: right;\n",
       "    }\n",
       "</style>\n",
       "<table border=\"1\" class=\"dataframe\">\n",
       "  <thead>\n",
       "    <tr style=\"text-align: right;\">\n",
       "      <th></th>\n",
       "      <th>Country Name</th>\n",
       "      <th>Country Code</th>\n",
       "      <th>Electricity_2018</th>\n",
       "    </tr>\n",
       "  </thead>\n",
       "  <tbody>\n",
       "    <tr>\n",
       "      <th>0</th>\n",
       "      <td>Aruba</td>\n",
       "      <td>ABW</td>\n",
       "      <td>100.000000</td>\n",
       "    </tr>\n",
       "    <tr>\n",
       "      <th>1</th>\n",
       "      <td>Africa Eastern and Southern</td>\n",
       "      <td>AFE</td>\n",
       "      <td>42.168241</td>\n",
       "    </tr>\n",
       "    <tr>\n",
       "      <th>2</th>\n",
       "      <td>Afghanistan</td>\n",
       "      <td>AFG</td>\n",
       "      <td>98.715622</td>\n",
       "    </tr>\n",
       "    <tr>\n",
       "      <th>3</th>\n",
       "      <td>Africa Western and Central</td>\n",
       "      <td>AFW</td>\n",
       "      <td>51.253253</td>\n",
       "    </tr>\n",
       "    <tr>\n",
       "      <th>4</th>\n",
       "      <td>Angola</td>\n",
       "      <td>AGO</td>\n",
       "      <td>45.290000</td>\n",
       "    </tr>\n",
       "  </tbody>\n",
       "</table>\n",
       "</div>"
      ],
      "text/plain": [
       "                  Country Name Country Code  Electricity_2018\n",
       "0                        Aruba          ABW        100.000000\n",
       "1  Africa Eastern and Southern          AFE         42.168241\n",
       "2                  Afghanistan          AFG         98.715622\n",
       "3   Africa Western and Central          AFW         51.253253\n",
       "4                       Angola          AGO         45.290000"
      ]
     },
     "execution_count": 57,
     "metadata": {},
     "output_type": "execute_result"
    }
   ],
   "source": [
    "electricitydf = pd.read_csv(electricity_fileloc)\n",
    "electricitydf = electricitydf.rename(columns={\"2018\":\"Electricity_2018\"})\n",
    "selected_columns = electricitydf[['Country Name', 'Country Code', 'Electricity_2018']]\n",
    "electricity2018_df = selected_columns.copy()\n",
    "electricity2018_df.to_csv(\"resources/electricity2018.csv\", index=False)\n",
    "electricity2018_df.head(5)\n"
   ]
  },
  {
   "cell_type": "code",
   "execution_count": 52,
   "id": "aadeb1ef",
   "metadata": {},
   "outputs": [
    {
     "data": {
      "text/html": [
       "<div>\n",
       "<style scoped>\n",
       "    .dataframe tbody tr th:only-of-type {\n",
       "        vertical-align: middle;\n",
       "    }\n",
       "\n",
       "    .dataframe tbody tr th {\n",
       "        vertical-align: top;\n",
       "    }\n",
       "\n",
       "    .dataframe thead th {\n",
       "        text-align: right;\n",
       "    }\n",
       "</style>\n",
       "<table border=\"1\" class=\"dataframe\">\n",
       "  <thead>\n",
       "    <tr style=\"text-align: right;\">\n",
       "      <th></th>\n",
       "      <th>Country Name</th>\n",
       "      <th>Country Code</th>\n",
       "      <th>Mortality_2018</th>\n",
       "    </tr>\n",
       "  </thead>\n",
       "  <tbody>\n",
       "    <tr>\n",
       "      <th>0</th>\n",
       "      <td>Aruba</td>\n",
       "      <td>ABW</td>\n",
       "      <td>NaN</td>\n",
       "    </tr>\n",
       "    <tr>\n",
       "      <th>1</th>\n",
       "      <td>Africa Eastern and Southern</td>\n",
       "      <td>AFE</td>\n",
       "      <td>62.115387</td>\n",
       "    </tr>\n",
       "    <tr>\n",
       "      <th>2</th>\n",
       "      <td>Afghanistan</td>\n",
       "      <td>AFG</td>\n",
       "      <td>62.500000</td>\n",
       "    </tr>\n",
       "    <tr>\n",
       "      <th>3</th>\n",
       "      <td>Africa Western and Central</td>\n",
       "      <td>AFW</td>\n",
       "      <td>99.598781</td>\n",
       "    </tr>\n",
       "    <tr>\n",
       "      <th>4</th>\n",
       "      <td>Angola</td>\n",
       "      <td>AGO</td>\n",
       "      <td>77.700000</td>\n",
       "    </tr>\n",
       "  </tbody>\n",
       "</table>\n",
       "</div>"
      ],
      "text/plain": [
       "                  Country Name Country Code  Mortality_2018\n",
       "0                        Aruba          ABW             NaN\n",
       "1  Africa Eastern and Southern          AFE       62.115387\n",
       "2                  Afghanistan          AFG       62.500000\n",
       "3   Africa Western and Central          AFW       99.598781\n",
       "4                       Angola          AGO       77.700000"
      ]
     },
     "execution_count": 52,
     "metadata": {},
     "output_type": "execute_result"
    }
   ],
   "source": [
    "mortalitydf = pd.read_csv(mortality_fileloc)\n",
    "mortalitydf = mortalitydf.rename(columns={\"2018\":\"Mortality_2018\"})\n",
    "selected_columns = mortalitydf[['Country Name', 'Country Code', 'Mortality_2018']]\n",
    "mortality2018_df = selected_columns.copy()\n",
    "mortality2018_df.to_csv(\"resources/mortality2018.csv\", index=False)\n",
    "mortality2018_df.head(5)"
   ]
  },
  {
   "cell_type": "code",
   "execution_count": 66,
   "id": "392209a5",
   "metadata": {},
   "outputs": [
    {
     "data": {
      "text/html": [
       "<div>\n",
       "<style scoped>\n",
       "    .dataframe tbody tr th:only-of-type {\n",
       "        vertical-align: middle;\n",
       "    }\n",
       "\n",
       "    .dataframe tbody tr th {\n",
       "        vertical-align: top;\n",
       "    }\n",
       "\n",
       "    .dataframe thead th {\n",
       "        text-align: right;\n",
       "    }\n",
       "</style>\n",
       "<table border=\"1\" class=\"dataframe\">\n",
       "  <thead>\n",
       "    <tr style=\"text-align: right;\">\n",
       "      <th></th>\n",
       "      <th>Country Name</th>\n",
       "      <th>Country Code</th>\n",
       "      <th>Mortality_2018</th>\n",
       "      <th>Electricity_2018</th>\n",
       "      <th>CO2percap_2018</th>\n",
       "    </tr>\n",
       "  </thead>\n",
       "  <tbody>\n",
       "    <tr>\n",
       "      <th>0</th>\n",
       "      <td>Aruba</td>\n",
       "      <td>ABW</td>\n",
       "      <td>NaN</td>\n",
       "      <td>100.000000</td>\n",
       "      <td>NaN</td>\n",
       "    </tr>\n",
       "    <tr>\n",
       "      <th>1</th>\n",
       "      <td>Africa Eastern and Southern</td>\n",
       "      <td>AFE</td>\n",
       "      <td>62.115387</td>\n",
       "      <td>42.168241</td>\n",
       "      <td>0.933541</td>\n",
       "    </tr>\n",
       "    <tr>\n",
       "      <th>2</th>\n",
       "      <td>Afghanistan</td>\n",
       "      <td>AFG</td>\n",
       "      <td>62.500000</td>\n",
       "      <td>98.715622</td>\n",
       "      <td>0.200151</td>\n",
       "    </tr>\n",
       "    <tr>\n",
       "      <th>3</th>\n",
       "      <td>Africa Western and Central</td>\n",
       "      <td>AFW</td>\n",
       "      <td>99.598781</td>\n",
       "      <td>51.253253</td>\n",
       "      <td>0.515544</td>\n",
       "    </tr>\n",
       "    <tr>\n",
       "      <th>4</th>\n",
       "      <td>Angola</td>\n",
       "      <td>AGO</td>\n",
       "      <td>77.700000</td>\n",
       "      <td>45.290000</td>\n",
       "      <td>0.887380</td>\n",
       "    </tr>\n",
       "  </tbody>\n",
       "</table>\n",
       "</div>"
      ],
      "text/plain": [
       "                  Country Name Country Code  Mortality_2018  Electricity_2018  \\\n",
       "0                        Aruba          ABW             NaN        100.000000   \n",
       "1  Africa Eastern and Southern          AFE       62.115387         42.168241   \n",
       "2                  Afghanistan          AFG       62.500000         98.715622   \n",
       "3   Africa Western and Central          AFW       99.598781         51.253253   \n",
       "4                       Angola          AGO       77.700000         45.290000   \n",
       "\n",
       "   CO2percap_2018  \n",
       "0             NaN  \n",
       "1        0.933541  \n",
       "2        0.200151  \n",
       "3        0.515544  \n",
       "4        0.887380  "
      ]
     },
     "execution_count": 66,
     "metadata": {},
     "output_type": "execute_result"
    }
   ],
   "source": [
    "import pandas as pd\n",
    "from functools import reduce\n",
    "\n",
    "# compile the list of dataframes you want to merge\n",
    "df2018_merged = [mortality2018_df, electricity2018_df, co2pc2018_df]\n",
    "df2018_merged = reduce(lambda  left,right: pd.merge(left,right,on=['Country Code'],\n",
    "                                            how='outer'), df2018_merged)\n",
    "# need to look at the above line of code again. \n",
    "selected_columns = df2018_merged[['Country Name', 'Country Code', 'Mortality_2018', 'Electricity_2018', 'CO2percap_2018']]\n",
    "df2018_merged = selected_columns.copy()\n",
    "df2018_merged.to_csv(\"resources/combined2018data.csv\", index=False)\n",
    "df2018_merged.head(5)"
   ]
  },
  {
   "cell_type": "code",
   "execution_count": null,
   "id": "8cff5bee",
   "metadata": {},
   "outputs": [],
   "source": []
  }
 ],
 "metadata": {
  "kernelspec": {
   "display_name": "Python 3 (ipykernel)",
   "language": "python",
   "name": "python3"
  },
  "language_info": {
   "codemirror_mode": {
    "name": "ipython",
    "version": 3
   },
   "file_extension": ".py",
   "mimetype": "text/x-python",
   "name": "python",
   "nbconvert_exporter": "python",
   "pygments_lexer": "ipython3",
   "version": "3.9.7"
  }
 },
 "nbformat": 4,
 "nbformat_minor": 5
}
